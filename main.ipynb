{
  "nbformat": 4,
  "nbformat_minor": 0,
  "metadata": {
    "colab": {
      "name": "UIP-FakeNews-Demo.ipynb",
      "provenance": [],
      "collapsed_sections": [
        "z_e8u346y937",
        "wCFMoPaZWTmB",
        "VnJyBP8h0M3E",
        "n2NbQ7bt0y_K",
        "y-MurG3ayxFq",
        "t2WyYnWF82O4",
        "FPZJzDDfWdCw",
        "9S01XXrTXLs5",
        "8OqbxLfVXlXP",
        "M7_NQUiaYV_i",
        "BcAtPlaqYsH9",
        "85ItMmEzY_qR",
        "FfarUjBdg5rQ"
      ],
      "machine_shape": "hm"
    },
    "kernelspec": {
      "name": "python3",
      "display_name": "Python 3"
    },
    "accelerator": "GPU"
  },
  "cells": [
    {
      "cell_type": "markdown",
      "metadata": {
        "id": "kjeffQ5UzmI5",
        "colab_type": "text"
      },
      "source": [
        "Original link to Colab Project: https://colab.research.google.com/drive/1dmDsxJLqMZObZ8kJfe-kvjxuB-U-NfvB"
      ]
    },
    {
      "cell_type": "code",
      "metadata": {
        "id": "-8tF4tB6D5Eo",
        "colab_type": "code",
        "outputId": "e5878d14-c0aa-4ba4-8369-e3facc4be7cf",
        "colab": {
          "base_uri": "https://localhost:8080/",
          "height": 85
        }
      },
      "source": [
        "# download the data repository\n",
        "!git clone https://github.com/FakeNewsChallenge/fnc-1.git"
      ],
      "execution_count": 0,
      "outputs": [
        {
          "output_type": "stream",
          "text": [
            "Cloning into 'fnc-1'...\n",
            "remote: Enumerating objects: 49, done.\u001b[K\n",
            "remote: Total 49 (delta 0), reused 0 (delta 0), pack-reused 49\u001b[K\n",
            "Unpacking objects: 100% (49/49), done.\n"
          ],
          "name": "stdout"
        }
      ]
    },
    {
      "cell_type": "code",
      "metadata": {
        "id": "iF-MeObz-A23",
        "colab_type": "code",
        "colab": {}
      },
      "source": [
        "!pip install keras==2.1.6"
      ],
      "execution_count": 0,
      "outputs": []
    },
    {
      "cell_type": "code",
      "metadata": {
        "id": "X8OxFlLpGKbJ",
        "colab_type": "code",
        "outputId": "80a0c0e3-42d0-4f0e-a90f-e014c4e29cf7",
        "colab": {
          "base_uri": "https://localhost:8080/",
          "height": 80
        }
      },
      "source": [
        "# some basic imports\n",
        "import pandas as pd\n",
        "import nltk\n",
        "import sklearn\n",
        "import numpy as np\n",
        "from keras.models import load_model\n",
        "import pickle"
      ],
      "execution_count": 0,
      "outputs": [
        {
          "output_type": "stream",
          "text": [
            "Using TensorFlow backend.\n"
          ],
          "name": "stderr"
        },
        {
          "output_type": "display_data",
          "data": {
            "text/html": [
              "<p style=\"color: red;\">\n",
              "The default version of TensorFlow in Colab will soon switch to TensorFlow 2.x.<br>\n",
              "We recommend you <a href=\"https://www.tensorflow.org/guide/migrate\" target=\"_blank\">upgrade</a> now \n",
              "or ensure your notebook will continue to use TensorFlow 1.x via the <code>%tensorflow_version 1.x</code> magic:\n",
              "<a href=\"https://colab.research.google.com/notebooks/tensorflow_version.ipynb\" target=\"_blank\">more info</a>.</p>\n"
            ],
            "text/plain": [
              "<IPython.core.display.HTML object>"
            ]
          },
          "metadata": {
            "tags": []
          }
        }
      ]
    },
    {
      "cell_type": "code",
      "metadata": {
        "id": "dtiwuRE26_qY",
        "colab_type": "code",
        "outputId": "c83ec604-e3a3-41c2-feb7-6435897c767a",
        "colab": {
          "base_uri": "https://localhost:8080/",
          "height": 122
        }
      },
      "source": [
        "from google.colab import drive\n",
        "drive.mount('/content/drive')"
      ],
      "execution_count": 0,
      "outputs": [
        {
          "output_type": "stream",
          "text": [
            "Go to this URL in a browser: https://accounts.google.com/o/oauth2/auth?client_id=947318989803-6bn6qk8qdgf4n4g3pfee6491hc0brc4i.apps.googleusercontent.com&redirect_uri=urn%3aietf%3awg%3aoauth%3a2.0%3aoob&response_type=code&scope=email%20https%3a%2f%2fwww.googleapis.com%2fauth%2fdocs.test%20https%3a%2f%2fwww.googleapis.com%2fauth%2fdrive%20https%3a%2f%2fwww.googleapis.com%2fauth%2fdrive.photos.readonly%20https%3a%2f%2fwww.googleapis.com%2fauth%2fpeopleapi.readonly\n",
            "\n",
            "Enter your authorization code:\n",
            "··········\n",
            "Mounted at /content/drive\n"
          ],
          "name": "stdout"
        }
      ]
    },
    {
      "cell_type": "code",
      "metadata": {
        "id": "E0yNddx2LbYQ",
        "colab_type": "code",
        "colab": {}
      },
      "source": [
        "path = 'drive/My Drive/'"
      ],
      "execution_count": 0,
      "outputs": []
    },
    {
      "cell_type": "markdown",
      "metadata": {
        "id": "z_e8u346y937",
        "colab_type": "text"
      },
      "source": [
        "# Function to Get Training and Testing Data"
      ]
    },
    {
      "cell_type": "code",
      "metadata": {
        "id": "PZyF4WLGGanO",
        "colab_type": "code",
        "colab": {}
      },
      "source": [
        "def read_data(dataset):\n",
        "  if dataset == 'train':\n",
        "    prefix = 'train'\n",
        "  elif dataset == 'test':\n",
        "    prefix = 'competition_test'\n",
        "  else:\n",
        "    raise ValueError('Dataset can be either train or test')\n",
        "\n",
        "  # get data\n",
        "  df_bodies = pd.read_csv(f'fnc-1/{prefix}_bodies.csv')\n",
        "  df_headlines = pd.read_csv(f'fnc-1/{prefix}_stances.csv')\n",
        "\n",
        "  # merge the two datasets on the 'Body ID' attribute\n",
        "  df = pd.merge(df_headlines, df_bodies, on='Body ID')\n",
        "  del df_bodies, df_headlines\n",
        "\n",
        "  return df"
      ],
      "execution_count": 0,
      "outputs": []
    },
    {
      "cell_type": "markdown",
      "metadata": {
        "id": "cxr_xmDiw8wD",
        "colab_type": "text"
      },
      "source": [
        "# Training for *related-unrelated*"
      ]
    },
    {
      "cell_type": "markdown",
      "metadata": {
        "id": "wCFMoPaZWTmB",
        "colab_type": "text"
      },
      "source": [
        "### Read the data"
      ]
    },
    {
      "cell_type": "code",
      "metadata": {
        "id": "Y9dIBuPsyo0y",
        "colab_type": "code",
        "outputId": "b3ca7514-eb74-4e77-e210-78ae67f084f6",
        "colab": {
          "base_uri": "https://localhost:8080/",
          "height": 204
        }
      },
      "source": [
        "# read the data\n",
        "df_train = read_data('train')\n",
        "df_test = read_data('test')\n",
        "df_train.head()"
      ],
      "execution_count": 0,
      "outputs": [
        {
          "output_type": "execute_result",
          "data": {
            "text/html": [
              "<div>\n",
              "<style scoped>\n",
              "    .dataframe tbody tr th:only-of-type {\n",
              "        vertical-align: middle;\n",
              "    }\n",
              "\n",
              "    .dataframe tbody tr th {\n",
              "        vertical-align: top;\n",
              "    }\n",
              "\n",
              "    .dataframe thead th {\n",
              "        text-align: right;\n",
              "    }\n",
              "</style>\n",
              "<table border=\"1\" class=\"dataframe\">\n",
              "  <thead>\n",
              "    <tr style=\"text-align: right;\">\n",
              "      <th></th>\n",
              "      <th>Headline</th>\n",
              "      <th>Body ID</th>\n",
              "      <th>Stance</th>\n",
              "      <th>articleBody</th>\n",
              "    </tr>\n",
              "  </thead>\n",
              "  <tbody>\n",
              "    <tr>\n",
              "      <th>0</th>\n",
              "      <td>Police find mass graves with at least '15 bodi...</td>\n",
              "      <td>712</td>\n",
              "      <td>unrelated</td>\n",
              "      <td>Danny Boyle is directing the untitled film\\n\\n...</td>\n",
              "    </tr>\n",
              "    <tr>\n",
              "      <th>1</th>\n",
              "      <td>Seth Rogen to Play Apple’s Steve Wozniak</td>\n",
              "      <td>712</td>\n",
              "      <td>discuss</td>\n",
              "      <td>Danny Boyle is directing the untitled film\\n\\n...</td>\n",
              "    </tr>\n",
              "    <tr>\n",
              "      <th>2</th>\n",
              "      <td>Mexico police find mass grave near site 43 stu...</td>\n",
              "      <td>712</td>\n",
              "      <td>unrelated</td>\n",
              "      <td>Danny Boyle is directing the untitled film\\n\\n...</td>\n",
              "    </tr>\n",
              "    <tr>\n",
              "      <th>3</th>\n",
              "      <td>Mexico Says Missing Students Not Found In Firs...</td>\n",
              "      <td>712</td>\n",
              "      <td>unrelated</td>\n",
              "      <td>Danny Boyle is directing the untitled film\\n\\n...</td>\n",
              "    </tr>\n",
              "    <tr>\n",
              "      <th>4</th>\n",
              "      <td>New iOS 8 bug can delete all of your iCloud do...</td>\n",
              "      <td>712</td>\n",
              "      <td>unrelated</td>\n",
              "      <td>Danny Boyle is directing the untitled film\\n\\n...</td>\n",
              "    </tr>\n",
              "  </tbody>\n",
              "</table>\n",
              "</div>"
            ],
            "text/plain": [
              "                                            Headline  ...                                        articleBody\n",
              "0  Police find mass graves with at least '15 bodi...  ...  Danny Boyle is directing the untitled film\\n\\n...\n",
              "1           Seth Rogen to Play Apple’s Steve Wozniak  ...  Danny Boyle is directing the untitled film\\n\\n...\n",
              "2  Mexico police find mass grave near site 43 stu...  ...  Danny Boyle is directing the untitled film\\n\\n...\n",
              "3  Mexico Says Missing Students Not Found In Firs...  ...  Danny Boyle is directing the untitled film\\n\\n...\n",
              "4  New iOS 8 bug can delete all of your iCloud do...  ...  Danny Boyle is directing the untitled film\\n\\n...\n",
              "\n",
              "[5 rows x 4 columns]"
            ]
          },
          "metadata": {
            "tags": []
          },
          "execution_count": 72
        }
      ]
    },
    {
      "cell_type": "markdown",
      "metadata": {
        "id": "VnJyBP8h0M3E",
        "colab_type": "text"
      },
      "source": [
        "### Generate TF-IDF representations of documents"
      ]
    },
    {
      "cell_type": "code",
      "metadata": {
        "id": "lksUDbqPH4aA",
        "colab_type": "code",
        "outputId": "cb5a6a42-7cc0-46bd-efd4-84e2afd5d745",
        "colab": {
          "base_uri": "https://localhost:8080/",
          "height": 136
        }
      },
      "source": [
        "# compute tf-idf after removing stopwords for Related-Unrelated Classification\n",
        "from sklearn.feature_extraction.text import TfidfVectorizer, CountVectorizer\n",
        "\n",
        "# list of text documents\n",
        "text = np.append(df_train.articleBody.unique(), df_train.Headline.unique())\n",
        "\n",
        "max_features = 1000\n",
        "\n",
        "# create the transform\n",
        "vectorizer_ru = TfidfVectorizer(max_features=max_features, stop_words='english')\n",
        "# vectorizer = CountVectorizer(max_features=max_features, stop_words='english')\n",
        "# tokenize and build vocab\n",
        "vectorizer_ru.fit(text)"
      ],
      "execution_count": 0,
      "outputs": [
        {
          "output_type": "execute_result",
          "data": {
            "text/plain": [
              "TfidfVectorizer(analyzer='word', binary=False, decode_error='strict',\n",
              "                dtype=<class 'numpy.float64'>, encoding='utf-8',\n",
              "                input='content', lowercase=True, max_df=1.0, max_features=1000,\n",
              "                min_df=1, ngram_range=(1, 1), norm='l2', preprocessor=None,\n",
              "                smooth_idf=True, stop_words='english', strip_accents=None,\n",
              "                sublinear_tf=False, token_pattern='(?u)\\\\b\\\\w\\\\w+\\\\b',\n",
              "                tokenizer=None, use_idf=True, vocabulary=None)"
            ]
          },
          "metadata": {
            "tags": []
          },
          "execution_count": 6
        }
      ]
    },
    {
      "cell_type": "code",
      "metadata": {
        "id": "wTfMNhIdWUIV",
        "colab_type": "code",
        "colab": {}
      },
      "source": [
        "# store vectorizer\n",
        "pickle.dump(vectorizer_ru, open(path + \"vectorizer_ru.pickle\", \"wb\"))"
      ],
      "execution_count": 0,
      "outputs": []
    },
    {
      "cell_type": "markdown",
      "metadata": {
        "id": "n2NbQ7bt0y_K",
        "colab_type": "text"
      },
      "source": [
        "### Extract the features we want to train on\n",
        "For example: cosine similarity, Euclidean distance, ..."
      ]
    },
    {
      "cell_type": "code",
      "metadata": {
        "id": "ZU-lkQqOxV9B",
        "colab_type": "code",
        "colab": {}
      },
      "source": [
        "from sklearn.metrics.pairwise import euclidean_distances, cosine_similarity\n",
        "from scipy.spatial.distance import dice\n",
        "\n",
        "def feature_extraction(df):\n",
        "  # store tfidf values of the headlines and the articleBody in df itself\n",
        "  df['headline_tfidf'] = vectorizer_ru.transform(df.Headline).toarray().tolist()\n",
        "  df['articleBody_tfidf'] = vectorizer_ru.transform(df.articleBody).toarray().tolist()\n",
        "  # df['combined_tfidf'] = np.concatenate((df['headline_tfidf'].tolist(), df['articleBody_tfidf'].tolist()), axis=1).tolist()\n",
        "  \n",
        "  del df['Headline'], df['articleBody']\n",
        "\n",
        "  # compute euclidean distance\n",
        "  df['euclidean'] = np.diagonal(euclidean_distances(df['headline_tfidf'].tolist(), df['articleBody_tfidf'].tolist()))\n",
        "  # compute cosine similarity\n",
        "  df['cosine'] = np.diagonal(cosine_similarity(df['headline_tfidf'].tolist(), df['articleBody_tfidf'].tolist()))\n",
        "  # compute dice similarity\n",
        "  df['dice'] = np.vectorize(dice)(df['headline_tfidf'], df['articleBody_tfidf'])\n",
        "  \n",
        "  # change string class to 0 or 1\n",
        "  df['Stance'] = df['Stance'].map({'agree': 1, 'disagree': 1, 'discuss': 1, 'unrelated': 0})\n",
        "\n",
        "  del df['headline_tfidf'], df['articleBody_tfidf']\n",
        "  return df"
      ],
      "execution_count": 0,
      "outputs": []
    },
    {
      "cell_type": "code",
      "metadata": {
        "id": "3xQUp6-i0oRx",
        "colab_type": "code",
        "colab": {}
      },
      "source": [
        "df_train = feature_extraction(df_train)\n",
        "df_test = feature_extraction(df_test)\n",
        "df_train.head()"
      ],
      "execution_count": 0,
      "outputs": []
    },
    {
      "cell_type": "markdown",
      "metadata": {
        "id": "y-MurG3ayxFq",
        "colab_type": "text"
      },
      "source": [
        "### Define the model and train it"
      ]
    },
    {
      "cell_type": "code",
      "metadata": {
        "id": "ohs3eJqqUd9s",
        "colab_type": "code",
        "outputId": "521b9129-f6c4-4a68-ae3f-05ea42c23f94",
        "colab": {
          "base_uri": "https://localhost:8080/",
          "height": 102
        }
      },
      "source": [
        "# Compute class-weights:\n",
        "#   Since the class examples in the training data are imbalanced, we assign a weight to the loss function\n",
        "#   to learn update the weights while learning.\n",
        "#   https://datascience.stackexchange.com/questions/13490/how-to-set-class-weights-for-imbalanced-classes-in-keras\n",
        "\n",
        "from sklearn.utils import class_weight\n",
        "\n",
        "class_wise_counts = df_train.groupby(by='Stance').count()['Body ID']\n",
        "print(class_wise_counts)\n",
        "\n",
        "class_weights = class_weight.compute_class_weight('balanced', np.unique(df_train['Stance']), df_train['Stance'])\n",
        "class_weight_dict = dict(enumerate(class_weights))\n",
        "print(\"Weighting in the loss function:\", class_weight_dict)"
      ],
      "execution_count": 0,
      "outputs": [
        {
          "output_type": "stream",
          "text": [
            "Stance\n",
            "0    36545\n",
            "1    13427\n",
            "Name: Body ID, dtype: int64\n",
            "Weighting in the loss function: {0: 0.6837050212067314, 1: 1.860877336709615}\n"
          ],
          "name": "stdout"
        }
      ]
    },
    {
      "cell_type": "code",
      "metadata": {
        "id": "Ont94mNpWXXf",
        "colab_type": "code",
        "colab": {}
      },
      "source": [
        "from keras.utils import to_categorical\n",
        "\n",
        "# prepare training and testing data\n",
        "# X_train = np.array(df_train['combined_tfidf'].tolist())\n",
        "X_train = df_train[['cosine', 'euclidean', 'dice']].to_numpy()\n",
        "y_train = to_categorical(df_train['Stance'], num_classes=2)\n",
        "\n",
        "# X_test = np.array(df_test['combined_tfidf'].tolist())\n",
        "X_test = df_test[['cosine', 'euclidean', 'dice']].to_numpy()\n",
        "y_test = to_categorical(df_test['Stance'], num_classes=2)"
      ],
      "execution_count": 0,
      "outputs": []
    },
    {
      "cell_type": "code",
      "metadata": {
        "id": "9rDbouBw4mj4",
        "colab_type": "code",
        "outputId": "a12e1949-9183-447d-eb0e-abf075a8e7ca",
        "colab": {
          "base_uri": "https://localhost:8080/",
          "height": 34
        }
      },
      "source": [
        "from keras.models import Sequential\n",
        "from keras.layers import Dense\n",
        "\n",
        "# define the neural network model\n",
        "model_ru = Sequential()\n",
        "model_ru.add(Dense(10, input_dim=3, activation='relu'))\n",
        "model_ru.add(Dense(2, activation='sigmoid'))\n",
        "model_ru.compile(loss='binary_crossentropy', optimizer='adagrad', metrics=['accuracy'])\n",
        "\n",
        "print('Model compiled.')"
      ],
      "execution_count": 0,
      "outputs": [
        {
          "output_type": "stream",
          "text": [
            "Model compiled.\n"
          ],
          "name": "stdout"
        }
      ]
    },
    {
      "cell_type": "code",
      "metadata": {
        "id": "sS3yzG9JTUKV",
        "colab_type": "code",
        "outputId": "b28bb653-5152-4e88-8058-079dbed64395",
        "colab": {
          "base_uri": "https://localhost:8080/",
          "height": 1000
        }
      },
      "source": [
        "# train the neural network model\n",
        "history = model_ru.fit(X_train, y_train, epochs=20, batch_size=50, validation_data=(X_test, y_test), class_weight=class_weight_dict)"
      ],
      "execution_count": 0,
      "outputs": [
        {
          "output_type": "stream",
          "text": [
            "WARNING:tensorflow:From /usr/local/lib/python3.6/dist-packages/keras/backend/tensorflow_backend.py:1033: The name tf.assign_add is deprecated. Please use tf.compat.v1.assign_add instead.\n",
            "\n",
            "WARNING:tensorflow:From /usr/local/lib/python3.6/dist-packages/keras/backend/tensorflow_backend.py:1020: The name tf.assign is deprecated. Please use tf.compat.v1.assign instead.\n",
            "\n",
            "WARNING:tensorflow:From /usr/local/lib/python3.6/dist-packages/keras/backend/tensorflow_backend.py:3005: The name tf.Session is deprecated. Please use tf.compat.v1.Session instead.\n",
            "\n",
            "Train on 49972 samples, validate on 25413 samples\n",
            "Epoch 1/20\n",
            "WARNING:tensorflow:From /usr/local/lib/python3.6/dist-packages/keras/backend/tensorflow_backend.py:190: The name tf.get_default_session is deprecated. Please use tf.compat.v1.get_default_session instead.\n",
            "\n",
            "WARNING:tensorflow:From /usr/local/lib/python3.6/dist-packages/keras/backend/tensorflow_backend.py:197: The name tf.ConfigProto is deprecated. Please use tf.compat.v1.ConfigProto instead.\n",
            "\n",
            "WARNING:tensorflow:From /usr/local/lib/python3.6/dist-packages/keras/backend/tensorflow_backend.py:207: The name tf.global_variables is deprecated. Please use tf.compat.v1.global_variables instead.\n",
            "\n",
            "WARNING:tensorflow:From /usr/local/lib/python3.6/dist-packages/keras/backend/tensorflow_backend.py:216: The name tf.is_variable_initialized is deprecated. Please use tf.compat.v1.is_variable_initialized instead.\n",
            "\n",
            "WARNING:tensorflow:From /usr/local/lib/python3.6/dist-packages/keras/backend/tensorflow_backend.py:223: The name tf.variables_initializer is deprecated. Please use tf.compat.v1.variables_initializer instead.\n",
            "\n",
            "49972/49972 [==============================] - 7s 137us/step - loss: 0.5758 - acc: 0.8600 - val_loss: 0.5014 - val_acc: 0.8435\n",
            "Epoch 2/20\n",
            "49972/49972 [==============================] - 3s 56us/step - loss: 0.4409 - acc: 0.9403 - val_loss: 0.4364 - val_acc: 0.8647\n",
            "Epoch 3/20\n",
            "49972/49972 [==============================] - 3s 56us/step - loss: 0.3536 - acc: 0.9519 - val_loss: 0.3932 - val_acc: 0.8696\n",
            "Epoch 4/20\n",
            "49972/49972 [==============================] - 3s 56us/step - loss: 0.2997 - acc: 0.9560 - val_loss: 0.3684 - val_acc: 0.8735\n",
            "Epoch 5/20\n",
            "49972/49972 [==============================] - 3s 56us/step - loss: 0.2653 - acc: 0.9583 - val_loss: 0.3515 - val_acc: 0.8750\n",
            "Epoch 6/20\n",
            "49972/49972 [==============================] - 3s 56us/step - loss: 0.2421 - acc: 0.9595 - val_loss: 0.3399 - val_acc: 0.8756\n",
            "Epoch 7/20\n",
            "49972/49972 [==============================] - 3s 55us/step - loss: 0.2255 - acc: 0.9606 - val_loss: 0.3328 - val_acc: 0.8764\n",
            "Epoch 8/20\n",
            "49972/49972 [==============================] - 3s 55us/step - loss: 0.2131 - acc: 0.9613 - val_loss: 0.3277 - val_acc: 0.8771\n",
            "Epoch 9/20\n",
            "49972/49972 [==============================] - 3s 55us/step - loss: 0.2036 - acc: 0.9616 - val_loss: 0.3242 - val_acc: 0.8780\n",
            "Epoch 10/20\n",
            "49972/49972 [==============================] - 3s 56us/step - loss: 0.1961 - acc: 0.9621 - val_loss: 0.3214 - val_acc: 0.8785\n",
            "Epoch 11/20\n",
            "49972/49972 [==============================] - 3s 55us/step - loss: 0.1901 - acc: 0.9623 - val_loss: 0.3199 - val_acc: 0.8798\n",
            "Epoch 12/20\n",
            "49972/49972 [==============================] - 3s 56us/step - loss: 0.1852 - acc: 0.9623 - val_loss: 0.3180 - val_acc: 0.8795\n",
            "Epoch 13/20\n",
            "49972/49972 [==============================] - 3s 55us/step - loss: 0.1810 - acc: 0.9623 - val_loss: 0.3169 - val_acc: 0.8798\n",
            "Epoch 14/20\n",
            "49972/49972 [==============================] - 3s 55us/step - loss: 0.1775 - acc: 0.9623 - val_loss: 0.3161 - val_acc: 0.8801\n",
            "Epoch 15/20\n",
            "49972/49972 [==============================] - 3s 54us/step - loss: 0.1746 - acc: 0.9624 - val_loss: 0.3156 - val_acc: 0.8802\n",
            "Epoch 16/20\n",
            "49972/49972 [==============================] - 3s 55us/step - loss: 0.1720 - acc: 0.9623 - val_loss: 0.3152 - val_acc: 0.8809\n",
            "Epoch 17/20\n",
            "49972/49972 [==============================] - 3s 55us/step - loss: 0.1698 - acc: 0.9622 - val_loss: 0.3150 - val_acc: 0.8813\n",
            "Epoch 18/20\n",
            "49972/49972 [==============================] - 3s 55us/step - loss: 0.1678 - acc: 0.9623 - val_loss: 0.3149 - val_acc: 0.8811\n",
            "Epoch 19/20\n",
            "49972/49972 [==============================] - 3s 55us/step - loss: 0.1661 - acc: 0.9624 - val_loss: 0.3149 - val_acc: 0.8812\n",
            "Epoch 20/20\n",
            "49972/49972 [==============================] - 3s 56us/step - loss: 0.1646 - acc: 0.9622 - val_loss: 0.3149 - val_acc: 0.8814\n"
          ],
          "name": "stdout"
        }
      ]
    },
    {
      "cell_type": "code",
      "metadata": {
        "id": "MdBe6bpy6mcT",
        "colab_type": "code",
        "colab": {}
      },
      "source": [
        "# store model\n",
        "model_ru.save(path + 'model_ru.h5')"
      ],
      "execution_count": 0,
      "outputs": []
    },
    {
      "cell_type": "markdown",
      "metadata": {
        "id": "t2WyYnWF82O4",
        "colab_type": "text"
      },
      "source": [
        "### Print confusion matrix"
      ]
    },
    {
      "cell_type": "code",
      "metadata": {
        "id": "djNSYpQkYN-M",
        "colab_type": "code",
        "outputId": "ece90d3c-dc43-4e59-9375-ee23d2cc6f4e",
        "colab": {
          "base_uri": "https://localhost:8080/",
          "height": 333
        }
      },
      "source": [
        "from sklearn.metrics import confusion_matrix\n",
        "import seaborn as sns\n",
        "\n",
        "print(df_test.groupby(by='Stance').count()['Body ID'])\n",
        "\n",
        "y_pred = model_ru.predict(X_test)\n",
        "class_names = ['unrelated', 'related']\n",
        "cm = confusion_matrix(np.argmax(y_test, axis=1), np.argmax(y_pred, axis=1))\n",
        "df_cm = pd.DataFrame(cm, index=class_names, columns=class_names)\n",
        "heatmap = sns.heatmap(df_cm, annot=True, fmt=\"d\")"
      ],
      "execution_count": 0,
      "outputs": [
        {
          "output_type": "stream",
          "text": [
            "Stance\n",
            "0    18349\n",
            "1     7064\n",
            "Name: Body ID, dtype: int64\n"
          ],
          "name": "stdout"
        },
        {
          "output_type": "display_data",
          "data": {
            "image/png": "[encoded data removed]",
            "text/plain": [
              "<Figure size 432x288 with 2 Axes>"
            ]
          },
          "metadata": {
            "tags": []
          }
        }
      ]
    },
    {
      "cell_type": "code",
      "metadata": {
        "id": "5wwtettzcwJs",
        "colab_type": "code",
        "colab": {}
      },
      "source": [
        "del model_ru"
      ],
      "execution_count": 0,
      "outputs": []
    },
    {
      "cell_type": "markdown",
      "metadata": {
        "id": "G0iI0RqdMwQT",
        "colab_type": "text"
      },
      "source": [
        "### Prepare Demo"
      ]
    },
    {
      "cell_type": "code",
      "metadata": {
        "id": "g_Sr9JJVKpLa",
        "colab_type": "code",
        "colab": {}
      },
      "source": [
        "# load model again\n",
        "model_ru = load_model(path + 'model_ru.h5')\n",
        "# load vectorizer\n",
        "vectorizer_ru = pickle.load(open(path + \"vectorizer_ru.pickle\", 'rb'))"
      ],
      "execution_count": 0,
      "outputs": []
    },
    {
      "cell_type": "code",
      "metadata": {
        "id": "KAyCjEdjqpx1",
        "colab_type": "code",
        "outputId": "8ecd380f-1c68-49c7-f5c6-4ecbb81253fc",
        "colab": {
          "base_uri": "https://localhost:8080/",
          "height": 312
        }
      },
      "source": [
        "from keras.utils import plot_model\n",
        "from IPython.display import display\n",
        "from PIL import Image\n",
        "\n",
        "plot_model(model_ru, to_file='model_ru.png', show_shapes=True, show_layer_names=False)\n",
        "display(Image.open(\"model_ru.png\"))"
      ],
      "execution_count": 0,
      "outputs": [
        {
          "output_type": "display_data",
          "data": {
            "image/png": "[encoded data removed]",
            "text/plain": [
              "<PIL.PngImagePlugin.PngImageFile image mode=RGBA size=291x295 at 0x7F4B5E3467B8>"
            ]
          },
          "metadata": {
            "tags": []
          }
        }
      ]
    },
    {
      "cell_type": "code",
      "metadata": {
        "id": "aoWzk2H7K_FJ",
        "colab_type": "code",
        "colab": {}
      },
      "source": [
        "model_ru.summary()"
      ],
      "execution_count": 0,
      "outputs": []
    },
    {
      "cell_type": "code",
      "metadata": {
        "id": "VMFhWJvgCiuv",
        "colab_type": "code",
        "outputId": "6263a2ac-f18d-491c-b7b2-39ab160360e1",
        "colab": {
          "base_uri": "https://localhost:8080/",
          "height": 136
        }
      },
      "source": [
        "# prepare data for demo\n",
        "apple_headline = \"The lowest-ever Apple Watch 3 price is back... but there's a catch\"\n",
        "pales_headline = \"Social media solidarity for wounded Palestinian journalist\"\n",
        "\n",
        "apple_body = \"The best-ever Apple Watch 3 deal is back in stock - although you're not going to get it easily. The white, 38mm version of one of our best wearables is down to $129 - a simply amazing price for what you're getting - but you'll need to seek it out in a local store.\\n\\nThat's right: while we're hearing a few reports that you can still snag it online if you're lucky, the Apple Watch 3 is only going to be this low price if you're willing to walk to a local store.\\n\\nWe'd also add the caveat that the Walmart prices are fluctating wildly throughout the day on a number of deals, so you might find this Apple Watch 3 deal fluctuating throughout the day.\"\n",
        "pales_body = \"Thousands of social media users have taken part in a campaign to support Palestinian freelance journalist Muath Amarneh, who lost his eye after being wounded while covering a protest in the occupied West Bank last week.\\n\\nJournalists from across the Arab world launched the campaign of solidarity after Amarneh was hit in the eye, apparently with a rubber bullet fired by Israeli forces who had arrived to quell the demonstrations last Friday in Surif.\"\n",
        "\n",
        "df = pd.DataFrame({'Headline': [apple_headline, pales_headline, apple_headline, pales_headline], 'articleBody': [apple_body, pales_body, pales_body, apple_body], 'Stance': ['agree', 'agree', 'unrelated', 'unrelated']})\n",
        "print(df)\n",
        "df = feature_extraction(df)"
      ],
      "execution_count": 0,
      "outputs": [
        {
          "output_type": "stream",
          "text": [
            "                                            Headline  ...     Stance\n",
            "0  The lowest-ever Apple Watch 3 price is back......  ...      agree\n",
            "1  Social media solidarity for wounded Palestinia...  ...      agree\n",
            "2  The lowest-ever Apple Watch 3 price is back......  ...  unrelated\n",
            "3  Social media solidarity for wounded Palestinia...  ...  unrelated\n",
            "\n",
            "[4 rows x 3 columns]\n"
          ],
          "name": "stdout"
        }
      ]
    },
    {
      "cell_type": "code",
      "metadata": {
        "id": "CMw0xkaUEMf2",
        "colab_type": "code",
        "outputId": "b234b348-db61-4deb-b7f9-ec35fcfa357f",
        "colab": {
          "base_uri": "https://localhost:8080/",
          "height": 102
        }
      },
      "source": [
        "X = df[['cosine', 'euclidean', 'dice']].to_numpy()\n",
        "y_pred = model_ru.predict(X)\n",
        "print(y_pred)\n",
        "print(np.argmax(y_pred, axis=1))"
      ],
      "execution_count": 0,
      "outputs": [
        {
          "output_type": "stream",
          "text": [
            "[[0.00814047 0.9843762 ]\n",
            " [0.03804943 0.93911594]\n",
            " [0.9376588  0.07622379]\n",
            " [0.9376588  0.07622379]]\n",
            "[1 1 0 0]\n"
          ],
          "name": "stdout"
        }
      ]
    },
    {
      "cell_type": "markdown",
      "metadata": {
        "id": "gJ8OM4Qaxvox",
        "colab_type": "text"
      },
      "source": [
        "# Training for *agrees-disagrees-discusses*"
      ]
    },
    {
      "cell_type": "markdown",
      "metadata": {
        "id": "FPZJzDDfWdCw",
        "colab_type": "text"
      },
      "source": [
        "### Read the data"
      ]
    },
    {
      "cell_type": "code",
      "metadata": {
        "id": "IexT86JwzeZa",
        "colab_type": "code",
        "colab": {}
      },
      "source": [
        "# read the data\n",
        "df_train = read_data('train')\n",
        "df_test = read_data('test')\n",
        "# df_train = df_train[df_train.Stance == 'agree'].head(5)"
      ],
      "execution_count": 0,
      "outputs": []
    },
    {
      "cell_type": "markdown",
      "metadata": {
        "id": "9S01XXrTXLs5",
        "colab_type": "text"
      },
      "source": [
        "### Generate TF-IDF representations of documents"
      ]
    },
    {
      "cell_type": "code",
      "metadata": {
        "id": "vPIeg8VTztQJ",
        "colab_type": "code",
        "outputId": "47f468df-0ee4-4f16-ab4a-b2ec5b313abc",
        "colab": {
          "base_uri": "https://localhost:8080/",
          "height": 136
        }
      },
      "source": [
        "# compute tf-idf after removing stopwords for Related-Unrelated Classification\n",
        "from sklearn.feature_extraction.text import TfidfVectorizer\n",
        "from sklearn.feature_extraction.text import CountVectorizer\n",
        "\n",
        "# list of text documents\n",
        "text = np.append(df_train.articleBody.unique(), df_train.Headline.unique())\n",
        "\n",
        "max_features = 5000\n",
        "\n",
        "# create the transform\n",
        "vectorizer_add = TfidfVectorizer(max_features=max_features, use_idf=False, ngram_range=(1,4), stop_words='english')\n",
        "# vectorizer = CountVectorizer(max_features=max_features, ngram_range=(1,4), stop_words='english')\n",
        "# tokenize and build vocab\n",
        "vectorizer_add.fit(text)"
      ],
      "execution_count": 0,
      "outputs": [
        {
          "output_type": "execute_result",
          "data": {
            "text/plain": [
              "TfidfVectorizer(analyzer='word', binary=False, decode_error='strict',\n",
              "                dtype=<class 'numpy.float64'>, encoding='utf-8',\n",
              "                input='content', lowercase=True, max_df=1.0, max_features=5000,\n",
              "                min_df=1, ngram_range=(1, 4), norm='l2', preprocessor=None,\n",
              "                smooth_idf=True, stop_words='english', strip_accents=None,\n",
              "                sublinear_tf=False, token_pattern='(?u)\\\\b\\\\w\\\\w+\\\\b',\n",
              "                tokenizer=None, use_idf=False, vocabulary=None)"
            ]
          },
          "metadata": {
            "tags": []
          },
          "execution_count": 5
        }
      ]
    },
    {
      "cell_type": "code",
      "metadata": {
        "id": "kLUW_oKaWoki",
        "colab_type": "code",
        "colab": {}
      },
      "source": [
        "# store vectorizer\n",
        "pickle.dump(vectorizer_add, open(path + \"vectorizer_add.pickle\", \"wb\"))"
      ],
      "execution_count": 0,
      "outputs": []
    },
    {
      "cell_type": "markdown",
      "metadata": {
        "id": "8OqbxLfVXlXP",
        "colab_type": "text"
      },
      "source": [
        "### Extract the features we want to train on\n",
        "For example: cosine similarity, Euclidean distance, ..."
      ]
    },
    {
      "cell_type": "code",
      "metadata": {
        "id": "kFXQAOT9155N",
        "colab_type": "code",
        "colab": {}
      },
      "source": [
        "from sklearn.metrics.pairwise import euclidean_distances, cosine_similarity\n",
        "\n",
        "def feature_extraction(df):\n",
        "  # remove instances when the stance is unrelated\n",
        "  df = df.drop(df[df.Stance == 'unrelated'].index)\n",
        "\n",
        "  # store tfidf values of the headlines and the articleBody in df itself\n",
        "  df['headline_tfidf'] = vectorizer_add.transform(df.Headline).toarray().tolist()\n",
        "  df['articleBody_tfidf'] = vectorizer_add.transform(df.articleBody).toarray().tolist()\n",
        "  df['combined_tfidf'] = np.concatenate((df['headline_tfidf'].tolist(), df['articleBody_tfidf'].tolist()), axis=1).tolist()\n",
        "  \n",
        "  # compute euclidean distance\n",
        "  # df['euclidean'] = np.diagonal(euclidean_distances(df['headline_tfidf'].tolist(), df['articleBody_tfidf'].tolist()))\n",
        "  # df['cosine'] = np.diagonal(cosine_similarity(df['headline_tfidf'].tolist(), df['articleBody_tfidf'].tolist()))\n",
        "\n",
        "  # change string class to 0 or 1\n",
        "  df['Stance'] = df['Stance'].map({'agree':1, 'disagree': 2, 'discuss': 0})\n",
        "\n",
        "  del df['Headline'], df['articleBody'], df['headline_tfidf'], df['articleBody_tfidf']\n",
        "  return df"
      ],
      "execution_count": 0,
      "outputs": []
    },
    {
      "cell_type": "code",
      "metadata": {
        "id": "PG7XGbpq2T1Q",
        "colab_type": "code",
        "outputId": "6daa8b0d-156a-4cb3-ed2f-012345d62b4d",
        "colab": {
          "base_uri": "https://localhost:8080/",
          "height": 238
        }
      },
      "source": [
        "df_train = feature_extraction(df_train)\n",
        "df_test = feature_extraction(df_test)\n",
        "\n",
        "print(\"Training data:\", len(df_train))\n",
        "print(\"Testing data:\", len(df_test))\n",
        "\n",
        "df_train.head()"
      ],
      "execution_count": 0,
      "outputs": [
        {
          "output_type": "stream",
          "text": [
            "Training data: 13427\n",
            "Testing data: 7064\n"
          ],
          "name": "stdout"
        },
        {
          "output_type": "execute_result",
          "data": {
            "text/html": [
              "<div>\n",
              "<style scoped>\n",
              "    .dataframe tbody tr th:only-of-type {\n",
              "        vertical-align: middle;\n",
              "    }\n",
              "\n",
              "    .dataframe tbody tr th {\n",
              "        vertical-align: top;\n",
              "    }\n",
              "\n",
              "    .dataframe thead th {\n",
              "        text-align: right;\n",
              "    }\n",
              "</style>\n",
              "<table border=\"1\" class=\"dataframe\">\n",
              "  <thead>\n",
              "    <tr style=\"text-align: right;\">\n",
              "      <th></th>\n",
              "      <th>Body ID</th>\n",
              "      <th>Stance</th>\n",
              "      <th>combined_tfidf</th>\n",
              "    </tr>\n",
              "  </thead>\n",
              "  <tbody>\n",
              "    <tr>\n",
              "      <th>1</th>\n",
              "      <td>712</td>\n",
              "      <td>0</td>\n",
              "      <td>[0.0, 0.0, 0.0, 0.0, 0.0, 0.0, 0.0, 0.0, 0.0, ...</td>\n",
              "    </tr>\n",
              "    <tr>\n",
              "      <th>5</th>\n",
              "      <td>712</td>\n",
              "      <td>0</td>\n",
              "      <td>[0.0, 0.0, 0.0, 0.0, 0.0, 0.0, 0.0, 0.0, 0.0, ...</td>\n",
              "    </tr>\n",
              "    <tr>\n",
              "      <th>6</th>\n",
              "      <td>712</td>\n",
              "      <td>0</td>\n",
              "      <td>[0.0, 0.0, 0.0, 0.0, 0.0, 0.0, 0.0, 0.0, 0.0, ...</td>\n",
              "    </tr>\n",
              "    <tr>\n",
              "      <th>15</th>\n",
              "      <td>712</td>\n",
              "      <td>0</td>\n",
              "      <td>[0.0, 0.0, 0.0, 0.0, 0.0, 0.0, 0.0, 0.0, 0.0, ...</td>\n",
              "    </tr>\n",
              "    <tr>\n",
              "      <th>20</th>\n",
              "      <td>712</td>\n",
              "      <td>0</td>\n",
              "      <td>[0.0, 0.0, 0.0, 0.0, 0.0, 0.0, 0.0, 0.0, 0.0, ...</td>\n",
              "    </tr>\n",
              "  </tbody>\n",
              "</table>\n",
              "</div>"
            ],
            "text/plain": [
              "    Body ID  Stance                                     combined_tfidf\n",
              "1       712       0  [0.0, 0.0, 0.0, 0.0, 0.0, 0.0, 0.0, 0.0, 0.0, ...\n",
              "5       712       0  [0.0, 0.0, 0.0, 0.0, 0.0, 0.0, 0.0, 0.0, 0.0, ...\n",
              "6       712       0  [0.0, 0.0, 0.0, 0.0, 0.0, 0.0, 0.0, 0.0, 0.0, ...\n",
              "15      712       0  [0.0, 0.0, 0.0, 0.0, 0.0, 0.0, 0.0, 0.0, 0.0, ...\n",
              "20      712       0  [0.0, 0.0, 0.0, 0.0, 0.0, 0.0, 0.0, 0.0, 0.0, ..."
            ]
          },
          "metadata": {
            "tags": []
          },
          "execution_count": 7
        }
      ]
    },
    {
      "cell_type": "code",
      "metadata": {
        "id": "23WTt12jlbAn",
        "colab_type": "code",
        "outputId": "06c9cd87-a9f8-44c1-9955-4f892fbb9e3e",
        "colab": {
          "base_uri": "https://localhost:8080/",
          "height": 173
        }
      },
      "source": [
        "df_train.groupby(by='Stance').count()"
      ],
      "execution_count": 0,
      "outputs": [
        {
          "output_type": "execute_result",
          "data": {
            "text/html": [
              "<div>\n",
              "<style scoped>\n",
              "    .dataframe tbody tr th:only-of-type {\n",
              "        vertical-align: middle;\n",
              "    }\n",
              "\n",
              "    .dataframe tbody tr th {\n",
              "        vertical-align: top;\n",
              "    }\n",
              "\n",
              "    .dataframe thead th {\n",
              "        text-align: right;\n",
              "    }\n",
              "</style>\n",
              "<table border=\"1\" class=\"dataframe\">\n",
              "  <thead>\n",
              "    <tr style=\"text-align: right;\">\n",
              "      <th></th>\n",
              "      <th>Body ID</th>\n",
              "      <th>combined_tfidf</th>\n",
              "    </tr>\n",
              "    <tr>\n",
              "      <th>Stance</th>\n",
              "      <th></th>\n",
              "      <th></th>\n",
              "    </tr>\n",
              "  </thead>\n",
              "  <tbody>\n",
              "    <tr>\n",
              "      <th>0</th>\n",
              "      <td>8909</td>\n",
              "      <td>8909</td>\n",
              "    </tr>\n",
              "    <tr>\n",
              "      <th>1</th>\n",
              "      <td>3678</td>\n",
              "      <td>3678</td>\n",
              "    </tr>\n",
              "    <tr>\n",
              "      <th>2</th>\n",
              "      <td>840</td>\n",
              "      <td>840</td>\n",
              "    </tr>\n",
              "  </tbody>\n",
              "</table>\n",
              "</div>"
            ],
            "text/plain": [
              "        Body ID  combined_tfidf\n",
              "Stance                         \n",
              "0          8909            8909\n",
              "1          3678            3678\n",
              "2           840             840"
            ]
          },
          "metadata": {
            "tags": []
          },
          "execution_count": 8
        }
      ]
    },
    {
      "cell_type": "markdown",
      "metadata": {
        "id": "M7_NQUiaYV_i",
        "colab_type": "text"
      },
      "source": [
        "### Balance data by adding random noise to the classes that are less in number"
      ]
    },
    {
      "cell_type": "code",
      "metadata": {
        "id": "rpLsFRlGYh-_",
        "colab_type": "code",
        "colab": {}
      },
      "source": [
        "def balance_data(df, stance, num_of_times):\n",
        "  '''\n",
        "    Take all samples of stance, add random noise to it, add to original list of samples.\n",
        "  '''\n",
        "\n",
        "  df_new = df[df.Stance == stance]\n",
        "  df_to_augment = pd.DataFrame().append([df_new]*(num_of_times - 1), ignore_index=True)\n",
        "\n",
        "  for idx, row in df_to_augment.iterrows():\n",
        "    combined = np.array(row['combined_tfidf'])\n",
        "    nonzero_idxs = combined.nonzero()[0]\n",
        "    # rands = np.random.normal(0, 1, len(nonzero_idxs))\n",
        "    rands = np.random.randint(-2, 3, len(nonzero_idxs))\n",
        "    combined[nonzero_idxs] += rands\n",
        "    combined = np.abs(combined) # take absolute value to remove negative values\n",
        "    row['combined_tfidf'] = combined.tolist()\n",
        "  \n",
        "  df = pd.concat([df, df_to_augment])\n",
        "  return df"
      ],
      "execution_count": 0,
      "outputs": []
    },
    {
      "cell_type": "code",
      "metadata": {
        "id": "kh0e7aLCpklm",
        "colab_type": "code",
        "outputId": "7a92ab6d-ee31-4f59-fe6c-249f123ebd92",
        "colab": {
          "base_uri": "https://localhost:8080/",
          "height": 173
        }
      },
      "source": [
        "df_train = balance_data(df_train, 1, num_of_times=2)\n",
        "df_train = balance_data(df_train, 2, num_of_times=10)\n",
        "df_train.groupby(by='Stance').count()"
      ],
      "execution_count": 0,
      "outputs": [
        {
          "output_type": "execute_result",
          "data": {
            "text/html": [
              "<div>\n",
              "<style scoped>\n",
              "    .dataframe tbody tr th:only-of-type {\n",
              "        vertical-align: middle;\n",
              "    }\n",
              "\n",
              "    .dataframe tbody tr th {\n",
              "        vertical-align: top;\n",
              "    }\n",
              "\n",
              "    .dataframe thead th {\n",
              "        text-align: right;\n",
              "    }\n",
              "</style>\n",
              "<table border=\"1\" class=\"dataframe\">\n",
              "  <thead>\n",
              "    <tr style=\"text-align: right;\">\n",
              "      <th></th>\n",
              "      <th>Body ID</th>\n",
              "      <th>combined_tfidf</th>\n",
              "    </tr>\n",
              "    <tr>\n",
              "      <th>Stance</th>\n",
              "      <th></th>\n",
              "      <th></th>\n",
              "    </tr>\n",
              "  </thead>\n",
              "  <tbody>\n",
              "    <tr>\n",
              "      <th>0</th>\n",
              "      <td>8909</td>\n",
              "      <td>8909</td>\n",
              "    </tr>\n",
              "    <tr>\n",
              "      <th>1</th>\n",
              "      <td>7356</td>\n",
              "      <td>7356</td>\n",
              "    </tr>\n",
              "    <tr>\n",
              "      <th>2</th>\n",
              "      <td>8400</td>\n",
              "      <td>8400</td>\n",
              "    </tr>\n",
              "  </tbody>\n",
              "</table>\n",
              "</div>"
            ],
            "text/plain": [
              "        Body ID  combined_tfidf\n",
              "Stance                         \n",
              "0          8909            8909\n",
              "1          7356            7356\n",
              "2          8400            8400"
            ]
          },
          "metadata": {
            "tags": []
          },
          "execution_count": 46
        }
      ]
    },
    {
      "cell_type": "markdown",
      "metadata": {
        "id": "BcAtPlaqYsH9",
        "colab_type": "text"
      },
      "source": [
        "### Define the model and train it"
      ]
    },
    {
      "cell_type": "code",
      "metadata": {
        "id": "p-hRYwt8W8ju",
        "colab_type": "code",
        "outputId": "04dab70e-44eb-44e3-f4ff-1274d7fe4c1b",
        "colab": {
          "base_uri": "https://localhost:8080/",
          "height": 136
        }
      },
      "source": [
        "# Compute class-weights:\n",
        "#   Since the class examples in the training data are imbalanced, we assign a weight to the loss function\n",
        "#   to learn update the weights while learning.\n",
        "#   https://datascience.stackexchange.com/questions/13490/how-to-set-class-weights-for-imbalanced-classes-in-keras\n",
        "\n",
        "from sklearn.utils import class_weight\n",
        "\n",
        "class_wise_counts = df_train.groupby(by='Stance').count()['Body ID']\n",
        "print(class_wise_counts)\n",
        "\n",
        "class_weights = class_weight.compute_class_weight('balanced', np.unique(df_train['Stance']), df_train['Stance'])\n",
        "class_weight_dict = dict(enumerate(class_weights))\n",
        "print(\"Weighting in the loss function:\", class_weight_dict)\n",
        "class_weight_dict[1] = 2 * class_weight_dict[1]\n",
        "class_weight_dict[2] = 10 * class_weight_dict[2]\n",
        "print(\"Weighting in the loss function:\", class_weight_dict)"
      ],
      "execution_count": 0,
      "outputs": [
        {
          "output_type": "stream",
          "text": [
            "Stance\n",
            "0    8909\n",
            "1    3678\n",
            "2     840\n",
            "Name: Body ID, dtype: int64\n",
            "Weighting in the loss function: {0: 0.5023758745837542, 1: 1.2168751132862063, 2: 5.328174603174603}\n",
            "Weighting in the loss function: {0: 0.5023758745837542, 1: 2.4337502265724127, 2: 53.28174603174603}\n"
          ],
          "name": "stdout"
        }
      ]
    },
    {
      "cell_type": "code",
      "metadata": {
        "id": "XbUPGD7nx9oG",
        "colab_type": "code",
        "colab": {}
      },
      "source": [
        "# prepare training and testing data\n",
        "from keras.utils import to_categorical\n",
        "\n",
        "# shuffle training data\n",
        "df_train = df_train.sample(frac=1)\n",
        "\n",
        "# # remove all but one discuss rows (\"staged learning\")\n",
        "# df_train_agree_disagree = df_train[df_train.Stance != 2]\n",
        "# df_train_agree_disagree = pd.concat([df_train_agree_disagree, df_train[df_train.Stance == 2].head(1)])\n",
        "\n",
        "X_train = np.array(df_train['combined_tfidf'].tolist())\n",
        "# X_train = df_train[['cosine', 'euclidean']].to_numpy()\n",
        "y_train = to_categorical(df_train['Stance'], num_classes=3)\n",
        "# y_train = df_train['Stance']\n",
        "\n",
        "X_test = np.array(df_test['combined_tfidf'].tolist())\n",
        "# X_test = df_test[['cosine', 'euclidean']].to_numpy()\n",
        "y_test = to_categorical(df_test['Stance'], num_classes=3)\n",
        "# y_test = df_test['Stance']"
      ],
      "execution_count": 0,
      "outputs": []
    },
    {
      "cell_type": "code",
      "metadata": {
        "id": "Pvuvqw2p3E9H",
        "colab_type": "code",
        "outputId": "3dd230f3-9eb9-4e24-e7d7-fa963e16315b",
        "colab": {
          "base_uri": "https://localhost:8080/",
          "height": 34
        }
      },
      "source": [
        "from keras.models import Sequential\n",
        "from keras.layers import Dense, Dropout\n",
        "\n",
        "# _add = _AgreeDisagreeDiscuss \n",
        "# define the neural network model\n",
        "model_add = Sequential()\n",
        "model_add.add(Dense(128, input_dim=10000, activation='relu'))\n",
        "model_add.add(Dense(32, activation='relu'))\n",
        "model_add.add(Dropout(0.4))\n",
        "model_add.add(Dense(16, activation='relu'))\n",
        "model_add.add(Dense(3, activation='sigmoid'))\n",
        "model_add.compile(loss='binary_crossentropy', optimizer='adam', metrics=['accuracy'])\n",
        "\n",
        "print('Model compiled.')"
      ],
      "execution_count": 0,
      "outputs": [
        {
          "output_type": "stream",
          "text": [
            "Model compiled.\n"
          ],
          "name": "stdout"
        }
      ]
    },
    {
      "cell_type": "code",
      "metadata": {
        "id": "DErjptHt3PYP",
        "colab_type": "code",
        "outputId": "cd96aa8e-f0f1-4411-b505-45bd64900a81",
        "colab": {
          "base_uri": "https://localhost:8080/",
          "height": 544
        }
      },
      "source": [
        "# train the neural network model\n",
        "history = model_add.fit(X_train, y_train, epochs=15, validation_data=(X_test, y_test), class_weight=class_weight_dict)"
      ],
      "execution_count": 0,
      "outputs": [
        {
          "output_type": "stream",
          "text": [
            "Train on 13427 samples, validate on 7064 samples\n",
            "Epoch 1/15\n",
            "13427/13427 [==============================] - 3s 236us/step - loss: 0.3364 - acc: 0.8525 - val_loss: 0.5020 - val_acc: 0.7839\n",
            "Epoch 2/15\n",
            "13427/13427 [==============================] - 3s 194us/step - loss: 0.1566 - acc: 0.9335 - val_loss: 0.7070 - val_acc: 0.7780\n",
            "Epoch 3/15\n",
            "13427/13427 [==============================] - 3s 195us/step - loss: 0.0982 - acc: 0.9606 - val_loss: 0.8847 - val_acc: 0.7780\n",
            "Epoch 4/15\n",
            "13427/13427 [==============================] - 3s 200us/step - loss: 0.0749 - acc: 0.9710 - val_loss: 1.0345 - val_acc: 0.7687\n",
            "Epoch 5/15\n",
            "13427/13427 [==============================] - 3s 199us/step - loss: 0.0539 - acc: 0.9800 - val_loss: 1.1147 - val_acc: 0.7652\n",
            "Epoch 6/15\n",
            "13427/13427 [==============================] - 3s 196us/step - loss: 0.0425 - acc: 0.9840 - val_loss: 1.2090 - val_acc: 0.7735\n",
            "Epoch 7/15\n",
            "13427/13427 [==============================] - 3s 195us/step - loss: 0.0318 - acc: 0.9886 - val_loss: 1.4054 - val_acc: 0.7719\n",
            "Epoch 8/15\n",
            "13427/13427 [==============================] - 3s 191us/step - loss: 0.0257 - acc: 0.9902 - val_loss: 1.5047 - val_acc: 0.7708\n",
            "Epoch 9/15\n",
            "13427/13427 [==============================] - 3s 197us/step - loss: 0.0208 - acc: 0.9923 - val_loss: 1.5411 - val_acc: 0.7716\n",
            "Epoch 10/15\n",
            "13427/13427 [==============================] - 3s 194us/step - loss: 0.0218 - acc: 0.9924 - val_loss: 1.4843 - val_acc: 0.7727\n",
            "Epoch 11/15\n",
            "13427/13427 [==============================] - 3s 194us/step - loss: 0.0176 - acc: 0.9941 - val_loss: 1.5119 - val_acc: 0.7713\n",
            "Epoch 12/15\n",
            "13427/13427 [==============================] - 3s 194us/step - loss: 0.0174 - acc: 0.9941 - val_loss: 1.6485 - val_acc: 0.7720\n",
            "Epoch 13/15\n",
            "13427/13427 [==============================] - 3s 190us/step - loss: 0.0162 - acc: 0.9949 - val_loss: 1.5868 - val_acc: 0.7670\n",
            "Epoch 14/15\n",
            "13427/13427 [==============================] - 3s 193us/step - loss: 0.0116 - acc: 0.9962 - val_loss: 1.6792 - val_acc: 0.7643\n",
            "Epoch 15/15\n",
            "13427/13427 [==============================] - 3s 193us/step - loss: 0.0149 - acc: 0.9952 - val_loss: 1.6517 - val_acc: 0.7625\n"
          ],
          "name": "stdout"
        }
      ]
    },
    {
      "cell_type": "code",
      "metadata": {
        "id": "8VfKYdjbY_YH",
        "colab_type": "code",
        "colab": {}
      },
      "source": [
        "# store model\n",
        "# model_add.save(path + 'model_add.h5')"
      ],
      "execution_count": 0,
      "outputs": []
    },
    {
      "cell_type": "markdown",
      "metadata": {
        "id": "85ItMmEzY_qR",
        "colab_type": "text"
      },
      "source": [
        "### Print confusion matrix"
      ]
    },
    {
      "cell_type": "code",
      "metadata": {
        "id": "M6By9LO-8Ewa",
        "colab_type": "code",
        "outputId": "f1ddc747-81b2-4aa4-8dcd-bb666116dda2",
        "colab": {
          "base_uri": "https://localhost:8080/",
          "height": 418
        }
      },
      "source": [
        "from sklearn.metrics import confusion_matrix, accuracy_score\n",
        "import seaborn as sns\n",
        "\n",
        "print(df_test.groupby(by='Stance').count()['Body ID'])\n",
        "\n",
        "y_pred = model_add.predict(X_test)\n",
        "class_names = ['discuss', 'agree', 'disagree']\n",
        "cm = confusion_matrix(np.argmax(y_test, axis=1), np.argmax(y_pred, axis=1))\n",
        "print(cm)\n",
        "print(accuracy_score(np.argmax(y_test, axis=1), np.argmax(y_pred, axis=1)))\n",
        "df_cm = pd.DataFrame(cm, index=class_names, columns=class_names)\n",
        "heatmap = sns.heatmap(df_cm, annot=True, fmt=\"d\")\n",
        "\n",
        "# row is true value\n",
        "# column is predicted value"
      ],
      "execution_count": 0,
      "outputs": [
        {
          "output_type": "stream",
          "text": [
            "Stance\n",
            "0    4464\n",
            "1    1903\n",
            "2     697\n",
            "Name: Body ID, dtype: int64\n",
            "[[3359  928  177]\n",
            " [ 715 1085  103]\n",
            " [ 259  346   92]]\n",
            "0.6421291053227633\n"
          ],
          "name": "stdout"
        },
        {
          "output_type": "display_data",
          "data": {
            "image/png": "[encoded data removed]",
            "text/plain": [
              "<Figure size 432x288 with 2 Axes>"
            ]
          },
          "metadata": {
            "tags": []
          }
        }
      ]
    },
    {
      "cell_type": "code",
      "metadata": {
        "id": "h_Rtrfm7c1nf",
        "colab_type": "code",
        "colab": {}
      },
      "source": [
        "# del model_add"
      ],
      "execution_count": 0,
      "outputs": []
    },
    {
      "cell_type": "markdown",
      "metadata": {
        "id": "FfarUjBdg5rQ",
        "colab_type": "text"
      },
      "source": [
        "### Prepare Demo"
      ]
    },
    {
      "cell_type": "code",
      "metadata": {
        "id": "DH72_7Krdm4o",
        "colab_type": "code",
        "outputId": "ec60bdda-c0bd-4ee2-f4c2-6d859e1bd02e",
        "colab": {
          "base_uri": "https://localhost:8080/",
          "height": 122
        }
      },
      "source": [
        "# load model again\n",
        "model_add = load_model(path + 'model_add.h5')\n",
        "# load vectorizer\n",
        "vectorizer_add = pickle.load(open(path + \"vectorizer_add.pickle\", 'rb'))"
      ],
      "execution_count": 0,
      "outputs": [
        {
          "output_type": "stream",
          "text": [
            "WARNING:tensorflow:From /usr/local/lib/python3.6/dist-packages/keras/backend/tensorflow_backend.py:148: The name tf.placeholder_with_default is deprecated. Please use tf.compat.v1.placeholder_with_default instead.\n",
            "\n",
            "WARNING:tensorflow:From /usr/local/lib/python3.6/dist-packages/keras/backend/tensorflow_backend.py:3733: calling dropout (from tensorflow.python.ops.nn_ops) with keep_prob is deprecated and will be removed in a future version.\n",
            "Instructions for updating:\n",
            "Please use `rate` instead of `keep_prob`. Rate should be set to `rate = 1 - keep_prob`.\n"
          ],
          "name": "stdout"
        }
      ]
    },
    {
      "cell_type": "code",
      "metadata": {
        "id": "WyNPi8NQsEYQ",
        "colab_type": "code",
        "outputId": "73b1f3a5-604c-43ce-db52-0d807b9d974d",
        "colab": {
          "base_uri": "https://localhost:8080/",
          "height": 644
        }
      },
      "source": [
        "from keras.utils import plot_model\n",
        "from IPython.display import display\n",
        "from PIL import Image\n",
        "\n",
        "plot_model(model_add, to_file='model_add.png', show_shapes=True, show_layer_names=False)\n",
        "display(Image.open(\"model_add.png\"))"
      ],
      "execution_count": 0,
      "outputs": [
        {
          "output_type": "display_data",
          "data": {
            "image/png": "[encoded data removed]",
            "text/plain": [
              "<PIL.PngImagePlugin.PngImageFile image mode=RGBA size=331x627 at 0x7F4B03A1AE10>"
            ]
          },
          "metadata": {
            "tags": []
          }
        }
      ]
    },
    {
      "cell_type": "code",
      "metadata": {
        "id": "8mYZvH6DhgGP",
        "colab_type": "code",
        "outputId": "4faaa861-d8f3-4bf0-e30d-aa4f24828aec",
        "colab": {
          "base_uri": "https://localhost:8080/",
          "height": 119
        }
      },
      "source": [
        "# prepare data for demo\n",
        "apple_headline = \"Truly innova­tive products leave their mark on the world instead of the planet.\"\n",
        "pales_headline = \"Social media solidarity for wounded Palestinian journalist\"\n",
        "sports_headline = \"Messi is a left legged human being and is extemely tall and muscular. He is the best footballer on the planet\"\n",
        "\n",
        "apple_body = 'Just as much innovation goes into the materials your Apple products are made of — and how they’re made — as into what they do. You can see that in the new MacBook Air and Mac mini. Their enclosures are made from 100% recycled aluminium, without compromising strength or finish. In so many ways, the most advanced products are the ones that make the least environmental impact.'\n",
        "# apple_body = \"Not only is Apple the best company, it even treats its employees well. Everyone loves Apple and they should for Apple is doing everything the best anyone can. Apple has the best services and is followed by everyone because it is the best\"\n",
        "pales_body = \"Thousands of social media users have taken part in a campaign to support Palestinian freelance journalist Muath Amarneh, who lost his eye after being wounded while covering a protest in the occupied West Bank last week.\\n\\nJournalists from across the Arab world launched the campaign of solidarity after Amarneh was hit in the eye, apparently with a rubber bullet fired by Israeli forces who had arrived to quell the demonstrations last Friday in Surif.\"\n",
        "sports_body = \"Messi is a short footballer. He is such a mediocre player that he may make his team lose singlehandedly. One should not ideally buy him for his worth. He should be valued far less and then he might be worth it. Since Barca got him for free, he is technically worth his worth.\"\n",
        "# sports_body = \"Messi is limping right legged footballer who is short as a midget and such a weak player that he is literally called the weakling. No wonder he is the worst footballer.\"\n",
        "\n",
        "df = pd.DataFrame({'Headline': [apple_headline, pales_headline, sports_headline], 'articleBody': [apple_body, pales_body, sports_body], 'Stance': ['agree', 'discuss', 'disagree']})\n",
        "print(df)\n",
        "df = feature_extraction(df)"
      ],
      "execution_count": 0,
      "outputs": [
        {
          "output_type": "stream",
          "text": [
            "                                            Headline  ...    Stance\n",
            "0  Truly innova­tive products leave their mark on...  ...     agree\n",
            "1  Social media solidarity for wounded Palestinia...  ...   discuss\n",
            "2  Messi is a left legged human being and is exte...  ...  disagree\n",
            "\n",
            "[3 rows x 3 columns]\n"
          ],
          "name": "stdout"
        }
      ]
    },
    {
      "cell_type": "code",
      "metadata": {
        "id": "9w5BuhD5jQNF",
        "colab_type": "code",
        "outputId": "d231fe26-9390-4700-fe40-38a852ae4bc2",
        "colab": {
          "base_uri": "https://localhost:8080/",
          "height": 85
        }
      },
      "source": [
        "X = np.array(df['combined_tfidf'].tolist())\n",
        "y_pred = model_add.predict(X)\n",
        "print(y_pred)\n",
        "print(np.argmax(y_pred, axis=1))\n",
        "# {'discuss': 0, 'agree':1, 'disagree': 2}"
      ],
      "execution_count": 0,
      "outputs": [
        {
          "output_type": "stream",
          "text": [
            "[[8.2316697e-03 9.5814240e-01 1.7112941e-02]\n",
            " [9.3924874e-01 4.5722187e-02 8.0028176e-04]\n",
            " [2.9802322e-08 6.3598156e-05 9.9992764e-01]]\n",
            "[1 0 2]\n"
          ],
          "name": "stdout"
        }
      ]
    }
  ]
}